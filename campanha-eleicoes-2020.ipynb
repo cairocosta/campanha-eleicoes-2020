{
 "cells": [
  {
   "cell_type": "code",
   "execution_count": null,
   "metadata": {},
   "outputs": [],
   "source": [
    "import pandas as pd"
   ]
  },
  {
   "cell_type": "markdown",
   "metadata": {},
   "source": [
    "# Leitura dos arquivos TSE - SP"
   ]
  },
  {
   "cell_type": "code",
   "execution_count": null,
   "metadata": {},
   "outputs": [],
   "source": [
    "#lendo o arquivo de despesas contratadas\n",
    "despesas_contratadas = pd.read_csv(\n",
    "    \"./files/dados/despesas_contratadas_candidatos_2020_SP.csv\",\n",
    "    sep = \";\", decimal = \",\", encoding = \"latin1\"\n",
    ")"
   ]
  },
  {
   "cell_type": "code",
   "execution_count": null,
   "metadata": {},
   "outputs": [],
   "source": [
    "#lendo o arquivo de receitas\n",
    "receitas = pd.read_csv(\n",
    "    \"./files/dados/receitas_candidatos_2020_SP.csv\",\n",
    "    sep = \";\", decimal = \",\", encoding = \"latin1\"\n",
    ")"
   ]
  },
  {
   "cell_type": "markdown",
   "metadata": {},
   "source": [
    "## Filtragem apenas pelo Munícipio de Franca - UE 64254"
   ]
  },
  {
   "cell_type": "code",
   "execution_count": null,
   "metadata": {},
   "outputs": [],
   "source": [
    "#filtro pela unidade eleitoral 64254 Franca - TSE\n",
    "despesas_contratadas = despesas_contratadas.loc[\n",
    "    despesas_contratadas.SG_UE == 64254\n",
    "]\n",
    "\n",
    "receitas = receitas.loc[\n",
    "    receitas.SG_UE == 64254\n",
    "]"
   ]
  },
  {
   "cell_type": "markdown",
   "metadata": {},
   "source": [
    "# Export DataFrame filtrado para CSV"
   ]
  },
  {
   "cell_type": "code",
   "execution_count": 40,
   "metadata": {},
   "outputs": [],
   "source": [
    "despesas_contratadas.to_csv(r'./files/despesas_contratadas_candidatos_2020_Franca.csv', index = False)\n",
    "receitas.to_csv(r'./files/receitas_candidatos_2020_Franca.csv', index = False)"
   ]
  }
 ],
 "metadata": {
  "kernelspec": {
   "display_name": "Python 3",
   "language": "python",
   "name": "python3"
  },
  "language_info": {
   "codemirror_mode": {
    "name": "ipython",
    "version": 3
   },
   "file_extension": ".py",
   "mimetype": "text/x-python",
   "name": "python",
   "nbconvert_exporter": "python",
   "pygments_lexer": "ipython3",
   "version": "3.8.5"
  }
 },
 "nbformat": 4,
 "nbformat_minor": 4
}
